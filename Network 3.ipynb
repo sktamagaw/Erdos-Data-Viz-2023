{
 "cells": [
  {
   "cell_type": "markdown",
   "id": "72fc52b6",
   "metadata": {},
   "source": [
    "In this notebook, we create another version of the network visualization, this time using the Networkx package.\n",
    "\n",
    "We directly load the clean_connections.csv file that we built during data cleaning as a graph.  Then, we add HoverTools and TapTools to allow us to mouse over the nodes and see the highlighted edges corresponding to that node.\n",
    "\n",
    "The output is saved as network3.html."
   ]
  },
  {
   "cell_type": "markdown",
   "id": "7cbd86e6",
   "metadata": {},
   "source": [
    "## Importing packages and data"
   ]
  },
  {
   "cell_type": "code",
   "execution_count": 1,
   "id": "4d72a2af",
   "metadata": {},
   "outputs": [],
   "source": [
    "import networkx as nx\n",
    "\n",
    "from bokeh.models import (Circle, HoverTool, MultiLine,\n",
    "                          NodesAndLinkedEdges,EdgesAndLinkedNodes, Plot, Range1d, TapTool,\n",
    "                         LinearAxis)\n",
    "from bokeh.plotting import from_networkx, show\n",
    "\n",
    "from bokeh.models import CustomJS"
   ]
  },
  {
   "cell_type": "code",
   "execution_count": 2,
   "id": "3874ab5d",
   "metadata": {},
   "outputs": [],
   "source": [
    "import matplotlib.pyplot as plt"
   ]
  },
  {
   "cell_type": "code",
   "execution_count": 3,
   "id": "1eedb4cf",
   "metadata": {},
   "outputs": [],
   "source": [
    "from bokeh.plotting import output_notebook, figure"
   ]
  },
  {
   "cell_type": "code",
   "execution_count": 4,
   "id": "b259708e",
   "metadata": {},
   "outputs": [],
   "source": [
    "from bokeh.io import save, output_file"
   ]
  },
  {
   "cell_type": "code",
   "execution_count": 5,
   "id": "770dbc59",
   "metadata": {},
   "outputs": [],
   "source": [
    "import pandas as pd"
   ]
  },
  {
   "cell_type": "code",
   "execution_count": 7,
   "id": "461e472b",
   "metadata": {},
   "outputs": [],
   "source": [
    "connections=pd.read_csv('clean_connections.csv')"
   ]
  },
  {
   "cell_type": "code",
   "execution_count": 8,
   "id": "3aa80e4c",
   "metadata": {},
   "outputs": [],
   "source": [
    "people=pd.read_csv('registeredparticipants.csv', encoding='latin1')"
   ]
  },
  {
   "cell_type": "markdown",
   "id": "0948de24",
   "metadata": {},
   "source": [
    "## Making the graph"
   ]
  },
  {
   "cell_type": "code",
   "execution_count": 9,
   "id": "55ea7310",
   "metadata": {},
   "outputs": [],
   "source": [
    "my_graph=nx.from_pandas_edgelist(connections, source='name', target='conn')"
   ]
  },
  {
   "cell_type": "code",
   "execution_count": 13,
   "id": "9737a306",
   "metadata": {},
   "outputs": [],
   "source": [
    "labels={}\n",
    "for i in my_graph.nodes:\n",
    "    count=list(connections['name'].values).count(i) + list(connections['conn'].values).count(i)\n",
    "    labels[i]= {'Name':people.iloc[i]['first'].strip() + ' ' + people.iloc[i]['last'].strip(),\n",
    "                'Connections' :  count}"
   ]
  },
  {
   "cell_type": "code",
   "execution_count": 11,
   "id": "639748f6",
   "metadata": {},
   "outputs": [],
   "source": [
    "output_file('network3.html')"
   ]
  },
  {
   "cell_type": "code",
   "execution_count": 12,
   "id": "7a62548c",
   "metadata": {},
   "outputs": [],
   "source": [
    "G = my_graph\n",
    "\n",
    "nx.set_node_attributes(G, labels)\n",
    "\n",
    "plot = Plot(width=500, height=500,\n",
    "            x_range=Range1d(-1.1,1.1), y_range=Range1d(-1.1,1.1))\n",
    "\n",
    "plot.title.text = \"USTARS 2023 Connections\"\n",
    "\n",
    "tooltips=[('Name', '@Name'),\n",
    "         ('Connections','@Connections')]\n",
    "\n",
    "callback = CustomJS(args={'lab': 'lab'},\n",
    "                    code=\"\"\"\n",
    "    var tooltips = document.getElementsByClassName(\"bk-tooltip\");\n",
    "    for (var i = 0; i < tooltips.length; i++) {\n",
    "        tooltips[i].style.top = '25px'; \n",
    "        tooltips[i].style.left = 0 + 'px'; \n",
    "        tooltips[i].style.width = 200 + 'px';\n",
    "    } \"\"\")\n",
    "\n",
    "plot.add_tools(HoverTool(tooltips=tooltips, \n",
    "                         callback=callback, \n",
    "                         show_arrow=False,\n",
    "                        attachment='below'),\n",
    "               TapTool())\n",
    "\n",
    "graph_renderer = from_networkx(G, nx.circular_layout, scale=1, center=(0,0))\n",
    "\n",
    "graph_renderer.node_renderer.glyph = Circle(size=15, fill_color='blue')\n",
    "graph_renderer.node_renderer.hover_glyph = Circle(size=15, fill_color='gold')\n",
    "graph_renderer.node_renderer.selection_glyph = Circle(size=15, fill_color='yellow')\n",
    "\n",
    "graph_renderer.edge_renderer.glyph = MultiLine(line_color=\"dimgray\", line_alpha=0.8, line_width=2)\n",
    "graph_renderer.edge_renderer.hover_glyph = MultiLine(line_alpha=1, line_color='gold', line_width=5)\n",
    "graph_renderer.edge_renderer.selection_glyph = MultiLine(line_color='yellow', line_width=5)\n",
    "\n",
    "\n",
    "graph_renderer.inspection_policy = NodesAndLinkedEdges()\n",
    "graph_renderer.selection_policy = NodesAndLinkedEdges()\n",
    "\n",
    "plot.renderers.append(graph_renderer)\n",
    "\n",
    "show(plot)"
   ]
  },
  {
   "cell_type": "code",
   "execution_count": null,
   "id": "361a958b",
   "metadata": {},
   "outputs": [],
   "source": []
  }
 ],
 "metadata": {
  "kernelspec": {
   "display_name": "Python 3 (ipykernel)",
   "language": "python",
   "name": "python3"
  },
  "language_info": {
   "codemirror_mode": {
    "name": "ipython",
    "version": 3
   },
   "file_extension": ".py",
   "mimetype": "text/x-python",
   "name": "python",
   "nbconvert_exporter": "python",
   "pygments_lexer": "ipython3",
   "version": "3.9.7"
  }
 },
 "nbformat": 4,
 "nbformat_minor": 5
}
