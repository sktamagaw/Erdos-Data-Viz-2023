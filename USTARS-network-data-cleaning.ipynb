{
 "cells": [
  {
   "cell_type": "markdown",
   "id": "cbb1734f",
   "metadata": {},
   "source": [
    "In this notebook, we clean the data from the survey\n",
    "\n",
    "To run this notebook, we need:\n",
    "- a csv of the registered participants called `registeredparticipants` with columns `first` and `last`\n",
    "- a csv of connections with a column called `name` and a column called `connections`\n",
    "\n",
    "In this notebook, we\n",
    "- identify each person by their id line in `registeredparticipants.csv`\n",
    "- identify people who do not have unique names so we can look out for them in the code\n",
    "- figure out all the ways people typed names.  Many people used first names, first and last names, or first name and last initial.  There were also many nicknames used and misspellings\n",
    "- create a new dataframe called with two columns: name and connection.  Each row corresponds to a connection made at USTARS. Entries in the dataframe are integers which are the corresponding id number from `registeredparticipants.csv`.\n",
    "- delete repeated connections from the dataframe df\n",
    "\n",
    "We save the csv as `connections-clean.csv`"
   ]
  },
  {
   "cell_type": "markdown",
   "id": "335bf199",
   "metadata": {},
   "source": [
    "## Importing data and packages"
   ]
  },
  {
   "cell_type": "code",
   "execution_count": 1,
   "id": "e0f9e34e",
   "metadata": {},
   "outputs": [],
   "source": [
    "import pandas as pd"
   ]
  },
  {
   "cell_type": "code",
   "execution_count": 2,
   "id": "6cca4753",
   "metadata": {},
   "outputs": [],
   "source": [
    "all_part = pd.read_csv('registeredparticipants.csv', encoding='latin1')"
   ]
  },
  {
   "cell_type": "code",
   "execution_count": 28,
   "id": "fcb00ab6",
   "metadata": {},
   "outputs": [],
   "source": [
    "connect = pd.read_csv('connections.csv', encoding ='latin1')"
   ]
  },
  {
   "cell_type": "markdown",
   "id": "9b9417db",
   "metadata": {},
   "source": [
    "## Adjustments to the Registration List"
   ]
  },
  {
   "cell_type": "code",
   "execution_count": 29,
   "id": "90dd3078",
   "metadata": {},
   "outputs": [],
   "source": [
    "#Make a full name column\n",
    "full = []\n",
    "for i in range(len(all_part)):\n",
    "    full.append(all_part.iloc[i]['first'].strip() + ' ' + all_part.iloc[i]['last'].strip())\n",
    "    \n",
    "all_part['full']=full"
   ]
  },
  {
   "cell_type": "code",
   "execution_count": 30,
   "id": "bf135202",
   "metadata": {},
   "outputs": [],
   "source": [
    "#make a first name last initial column\n",
    "initial = []\n",
    "for i in range(len(all_part)):\n",
    "    initial.append(all_part.iloc[i]['first'].strip() + ' ' + all_part.iloc[i]['last'].strip()[0])\n",
    "    \n",
    "all_part['initial']=initial"
   ]
  },
  {
   "cell_type": "markdown",
   "id": "225c2309",
   "metadata": {},
   "source": [
    "We look for matching names in the registration list"
   ]
  },
  {
   "cell_type": "code",
   "execution_count": 32,
   "id": "95eb5442",
   "metadata": {
    "scrolled": true
   },
   "outputs": [
    {
     "name": "stdout",
     "output_type": "stream",
     "text": [
      "Paige\n",
      "Eric\n"
     ]
    }
   ],
   "source": [
    "repeats=[]\n",
    "for i in range(len(all_part['first'].value_counts())):\n",
    "    if all_part['first'].value_counts()[i] >1:\n",
    "        print(all_part['first'].value_counts().index[i])\n",
    "        repeats.append(all_part['first'].value_counts().index[i])"
   ]
  },
  {
   "cell_type": "markdown",
   "id": "d8ba8dd5",
   "metadata": {},
   "source": [
    "But one Paige didn't come, so we'll remove her from the list"
   ]
  },
  {
   "cell_type": "code",
   "execution_count": 33,
   "id": "62ee80a1",
   "metadata": {},
   "outputs": [],
   "source": [
    "repeats.remove('Paige')"
   ]
  },
  {
   "cell_type": "markdown",
   "id": "66d7bf63",
   "metadata": {},
   "source": [
    "We make sure that we understand how people typed their own names"
   ]
  },
  {
   "cell_type": "code",
   "execution_count": 34,
   "id": "f89cd48c",
   "metadata": {},
   "outputs": [
    {
     "name": "stdout",
     "output_type": "stream",
     "text": [
      "'Sofía'\n",
      "'Antwon Park'\n",
      "'Sofía'\n",
      "'Sofía'\n",
      "'Sofía'\n",
      "'Valerie Batino'\n",
      "'Connor N.'\n",
      "'Sofía'\n",
      "'Sofía'\n",
      "'Sofía'\n",
      "'Sofía'\n",
      "'Sofia'\n",
      "'Sofía'\n",
      "'Sofía'\n",
      "'Sofía'\n",
      "'Antwon Park'\n",
      "'Sofía'\n",
      "'Sofía'\n",
      "'Sofía'\n",
      "'Sofía'\n",
      "'Sofía'\n",
      "'Sofía'\n",
      "'Elizabeth crow'\n",
      "'Christopher O'Neill'\n"
     ]
    }
   ],
   "source": [
    "for i in range(len(connect)):\n",
    "    person= connect.iloc[i]['name']\n",
    "    person=person.strip()\n",
    "    if person in repeats:\n",
    "        print('Repeat: '+person)\n",
    "    if person not in all_part['first'].values:\n",
    "        if person not in all_part['full'].values:\n",
    "            print(\"'\"+person+ \"'\")"
   ]
  },
  {
   "cell_type": "markdown",
   "id": "bd73034b",
   "metadata": {},
   "source": [
    "## Establishing aliases"
   ]
  },
  {
   "cell_type": "code",
   "execution_count": 42,
   "id": "afeab45f",
   "metadata": {},
   "outputs": [],
   "source": [
    "#Create a dictionary for the various ways people are called\n",
    "#Keys are what they are called, and values are ID numbers\n",
    "\n",
    "#This section has been redacted on the public version, \n",
    "#because I don't believe people need to know how their names were misspelled"
   ]
  },
  {
   "cell_type": "markdown",
   "id": "a0f33c92",
   "metadata": {},
   "source": [
    "## Creating the new dataframe"
   ]
  },
  {
   "cell_type": "code",
   "execution_count": 43,
   "id": "51a5bb89",
   "metadata": {},
   "outputs": [],
   "source": [
    "def get_id(name):\n",
    "    '''a helper function that inputs a string and outputs the id number\n",
    "    If it can't find it, prints the name and quits'''\n",
    "    name=name.strip()\n",
    "    #print(name)\n",
    "    if name in repeats:\n",
    "        #raise ValueError('Repeated name')\n",
    "        return 80 #because only one Eric seemed active\n",
    "    if name == 'Paige':\n",
    "        return 33 #because the other page was not present\n",
    "    elif name in all_part['first'].values:\n",
    "        return all_part.loc[all_part['first']==name].index[0]\n",
    "    elif name in all_part['full'].values:\n",
    "        return all_part.loc[all_part['full']==name].index[0]\n",
    "    elif name.strip('.') in all_part['initial'].values:\n",
    "        #print('NAME INITIAL ' + name)\n",
    "        return all_part.loc[all_part['initial']==name.strip('.')].index[0]\n",
    "    elif name in nicknames.keys():\n",
    "        return nicknames[name]\n",
    "    \n",
    "    else:\n",
    "        raise ValueError('Cannot find name in get_id: ' + name)\n",
    "        "
   ]
  },
  {
   "cell_type": "code",
   "execution_count": 44,
   "id": "66488e9c",
   "metadata": {
    "scrolled": true
   },
   "outputs": [],
   "source": [
    "df=pd.DataFrame(columns=['name','connection'])\n",
    "\n",
    "for i in range(len(connect)):\n",
    "    #entries separated by commas\n",
    "    connections=connect.iloc[i]['connections']\n",
    "    connections=connections.strip()\n",
    "    while ',' in connections: \n",
    "        #read name until comma\n",
    "        newname=''\n",
    "        while connections[0] != ',':\n",
    "            newname=newname+connections[0]\n",
    "            connections=connections[1:]\n",
    "            #print(connections)\n",
    "        newname=newname.strip()\n",
    "        \n",
    "        #add to list\n",
    "        if newname in all_part['first'].values:\n",
    "            #print('here')\n",
    "            name= get_id(connect.iloc[i]['name'])\n",
    "            connection=get_id(newname)\n",
    "            df.loc[len(df)]=[name, connection]\n",
    "            \n",
    "        elif newname in all_part['full'].values:\n",
    "            name= get_id(connect.iloc[i]['name'])\n",
    "            connection=get_id(newname)\n",
    "            df.loc[len(df)]=[name, connection]\n",
    "            \n",
    "        elif newname in nicknames.keys():\n",
    "            name= get_id(connect.iloc[i]['name'])\n",
    "            connection=get_id(newname)\n",
    "            df.loc[len(df)]=[name, connection]\n",
    "            \n",
    "        elif newname.strip('.') in all_part['initial'].values:\n",
    "            name= get_id(connect.iloc[i]['name'])\n",
    "            connection=get_id(newname)\n",
    "            df.loc[len(df)]=[name, connection]\n",
    "            \n",
    "        else:\n",
    "            break \n",
    "            #print('HERE1 ' + newname)\n",
    "            #There is a single value Tessa that I can't figure out who it is!\n",
    "            \n",
    "        \n",
    "        connections=connections[1:]\n",
    "        \n",
    "        #single entries\n",
    "        \n",
    "    if (',' not in connections) and connections !='':\n",
    "        #print('test ' + connections)\n",
    "        #connection= connect.iloc[i]['connections']\n",
    "        connections=connections.strip()\n",
    "        if connections in all_part['first'].values:\n",
    "            #print('here')\n",
    "            name= get_id(connect.iloc[i]['name'])\n",
    "            connection=get_id(connections)\n",
    "            df.loc[len(df)]=[name, connection]\n",
    "\n",
    "        elif connections in all_part['full'].values:\n",
    "            name= get_id(connect.iloc[i]['name'])\n",
    "            connection=get_id(connections)\n",
    "            df.loc[len(df)]=[name, connection]\n",
    "            \n",
    "        elif connections.strip('.') in all_part['initial'].values:\n",
    "            name= get_id(connect.iloc[i]['name'])\n",
    "            connection=get_id(connections)\n",
    "            df.loc[len(df)]=[name, connection]\n",
    "\n",
    "        elif connections in nicknames.keys():\n",
    "            name= get_id(connect.iloc[i]['name'])\n",
    "            connection=get_id(connections)\n",
    "            df.loc[len(df)]=[name, connection]\n",
    "\n",
    "        else:\n",
    "            print('HERE2 ' +connections) \n",
    "\n"
   ]
  },
  {
   "cell_type": "code",
   "execution_count": 45,
   "id": "e54f36c8",
   "metadata": {},
   "outputs": [
    {
     "data": {
      "text/plain": [
       "348"
      ]
     },
     "execution_count": 45,
     "metadata": {},
     "output_type": "execute_result"
    }
   ],
   "source": [
    "len(df)"
   ]
  },
  {
   "cell_type": "code",
   "execution_count": 46,
   "id": "730fd26f",
   "metadata": {},
   "outputs": [
    {
     "data": {
      "text/html": [
       "<div>\n",
       "<style scoped>\n",
       "    .dataframe tbody tr th:only-of-type {\n",
       "        vertical-align: middle;\n",
       "    }\n",
       "\n",
       "    .dataframe tbody tr th {\n",
       "        vertical-align: top;\n",
       "    }\n",
       "\n",
       "    .dataframe thead th {\n",
       "        text-align: right;\n",
       "    }\n",
       "</style>\n",
       "<table border=\"1\" class=\"dataframe\">\n",
       "  <thead>\n",
       "    <tr style=\"text-align: right;\">\n",
       "      <th></th>\n",
       "      <th>name</th>\n",
       "      <th>connection</th>\n",
       "    </tr>\n",
       "  </thead>\n",
       "  <tbody>\n",
       "    <tr>\n",
       "      <th>0</th>\n",
       "      <td>76</td>\n",
       "      <td>82</td>\n",
       "    </tr>\n",
       "    <tr>\n",
       "      <th>1</th>\n",
       "      <td>76</td>\n",
       "      <td>70</td>\n",
       "    </tr>\n",
       "    <tr>\n",
       "      <th>2</th>\n",
       "      <td>76</td>\n",
       "      <td>7</td>\n",
       "    </tr>\n",
       "    <tr>\n",
       "      <th>3</th>\n",
       "      <td>76</td>\n",
       "      <td>0</td>\n",
       "    </tr>\n",
       "    <tr>\n",
       "      <th>4</th>\n",
       "      <td>76</td>\n",
       "      <td>69</td>\n",
       "    </tr>\n",
       "  </tbody>\n",
       "</table>\n",
       "</div>"
      ],
      "text/plain": [
       "   name  connection\n",
       "0    76          82\n",
       "1    76          70\n",
       "2    76           7\n",
       "3    76           0\n",
       "4    76          69"
      ]
     },
     "execution_count": 46,
     "metadata": {},
     "output_type": "execute_result"
    }
   ],
   "source": [
    "df.head()"
   ]
  },
  {
   "cell_type": "markdown",
   "id": "f6ed38cc",
   "metadata": {},
   "source": [
    "Finally, we create a database of unique connections (key is smaller id) and export as a csv"
   ]
  },
  {
   "cell_type": "code",
   "execution_count": 47,
   "id": "3019031b",
   "metadata": {},
   "outputs": [],
   "source": [
    "finaldf=pd.DataFrame(columns=['name','conn'])\n",
    "for i in range(len(df)):\n",
    "    if df.iloc[i]['name'] != df.iloc[i]['connection']:\n",
    "        if df.iloc[i]['name'] < df.iloc[i]['connection']:\n",
    "            person1=df.iloc[i]['name']\n",
    "            person2=df.iloc[i]['connection']\n",
    "        else:\n",
    "            person2=df.iloc[i]['name']\n",
    "            person1=df.iloc[i]['connection']\n",
    "        \n",
    "        isthere=False\n",
    "        for j in range(len(finaldf)):\n",
    "            if finaldf.iloc[j]['name']==person1:\n",
    "                if finaldf.iloc[j]['conn']==person2:\n",
    "                    isthere=True\n",
    "                    break\n",
    "        \n",
    "        if isthere==False:\n",
    "#             print('here')\n",
    "#             print(person1)\n",
    "            finaldf.loc[len(finaldf)]=[person1, person2]\n",
    "            \n",
    "        \n",
    "    "
   ]
  },
  {
   "cell_type": "code",
   "execution_count": 48,
   "id": "268ecaec",
   "metadata": {},
   "outputs": [
    {
     "data": {
      "text/html": [
       "<div>\n",
       "<style scoped>\n",
       "    .dataframe tbody tr th:only-of-type {\n",
       "        vertical-align: middle;\n",
       "    }\n",
       "\n",
       "    .dataframe tbody tr th {\n",
       "        vertical-align: top;\n",
       "    }\n",
       "\n",
       "    .dataframe thead th {\n",
       "        text-align: right;\n",
       "    }\n",
       "</style>\n",
       "<table border=\"1\" class=\"dataframe\">\n",
       "  <thead>\n",
       "    <tr style=\"text-align: right;\">\n",
       "      <th></th>\n",
       "      <th>name</th>\n",
       "      <th>conn</th>\n",
       "    </tr>\n",
       "  </thead>\n",
       "  <tbody>\n",
       "    <tr>\n",
       "      <th>0</th>\n",
       "      <td>76</td>\n",
       "      <td>82</td>\n",
       "    </tr>\n",
       "    <tr>\n",
       "      <th>1</th>\n",
       "      <td>70</td>\n",
       "      <td>76</td>\n",
       "    </tr>\n",
       "    <tr>\n",
       "      <th>2</th>\n",
       "      <td>7</td>\n",
       "      <td>76</td>\n",
       "    </tr>\n",
       "    <tr>\n",
       "      <th>3</th>\n",
       "      <td>0</td>\n",
       "      <td>76</td>\n",
       "    </tr>\n",
       "    <tr>\n",
       "      <th>4</th>\n",
       "      <td>69</td>\n",
       "      <td>76</td>\n",
       "    </tr>\n",
       "  </tbody>\n",
       "</table>\n",
       "</div>"
      ],
      "text/plain": [
       "   name  conn\n",
       "0    76    82\n",
       "1    70    76\n",
       "2     7    76\n",
       "3     0    76\n",
       "4    69    76"
      ]
     },
     "execution_count": 48,
     "metadata": {},
     "output_type": "execute_result"
    }
   ],
   "source": [
    "finaldf.head()"
   ]
  },
  {
   "cell_type": "code",
   "execution_count": 49,
   "id": "578efc54",
   "metadata": {},
   "outputs": [
    {
     "data": {
      "text/plain": [
       "264"
      ]
     },
     "execution_count": 49,
     "metadata": {},
     "output_type": "execute_result"
    }
   ],
   "source": [
    "len(finaldf)"
   ]
  },
  {
   "cell_type": "code",
   "execution_count": 50,
   "id": "1f09cb40",
   "metadata": {},
   "outputs": [],
   "source": [
    "finaldf.to_csv('clean_connections.csv', index=False)"
   ]
  },
  {
   "cell_type": "code",
   "execution_count": null,
   "id": "b95d8c5a",
   "metadata": {},
   "outputs": [],
   "source": []
  }
 ],
 "metadata": {
  "kernelspec": {
   "display_name": "Python 3 (ipykernel)",
   "language": "python",
   "name": "python3"
  },
  "language_info": {
   "codemirror_mode": {
    "name": "ipython",
    "version": 3
   },
   "file_extension": ".py",
   "mimetype": "text/x-python",
   "name": "python",
   "nbconvert_exporter": "python",
   "pygments_lexer": "ipython3",
   "version": "3.9.7"
  }
 },
 "nbformat": 4,
 "nbformat_minor": 5
}
